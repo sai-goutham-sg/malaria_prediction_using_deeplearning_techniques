{
 "cells": [
  {
   "cell_type": "code",
   "execution_count": 1,
   "id": "846ee4cb",
   "metadata": {},
   "outputs": [],
   "source": [
    "import numpy as np \n",
    "import pandas as pd \n",
    "import matplotlib.pyplot as plt\n",
    "\n",
    "import tensorflow as tf\n",
    "from tensorflow.keras import models, layers\n",
    "\n",
    "import warnings \n",
    "warnings.filterwarnings(\"ignore\")\n",
    "import os\n",
    "os.environ['TF_CPP_MIN_LOG_LEVEL'] = '2'\n"
   ]
  },
  {
   "cell_type": "code",
   "execution_count": 2,
   "id": "b0be05ec",
   "metadata": {},
   "outputs": [],
   "source": [
    "folder=r\"C:\\Users\\scoot\\Downloads\\archive (1)\\cell_images\\cell_images\""
   ]
  },
  {
   "cell_type": "code",
   "execution_count": 3,
   "id": "1a4194f3",
   "metadata": {},
   "outputs": [],
   "source": [
    "tf.keras.utils.image_dataset_from_directory??"
   ]
  },
  {
   "cell_type": "code",
   "execution_count": 4,
   "id": "ebfc7219",
   "metadata": {},
   "outputs": [
    {
     "name": "stdout",
     "output_type": "stream",
     "text": [
      "Found 27558 files belonging to 2 classes.\n"
     ]
    }
   ],
   "source": [
    "data=tf.keras.utils.image_dataset_from_directory(folder,image_size=(40,40),class_names=[\"Parasitized\",\"Uninfected\"],batch_size=200)"
   ]
  },
  {
   "cell_type": "code",
   "execution_count": 5,
   "id": "c2cb2aca",
   "metadata": {},
   "outputs": [
    {
     "data": {
      "text/plain": [
       "tensorflow.python.data.ops.dataset_ops.BatchDataset"
      ]
     },
     "execution_count": 5,
     "metadata": {},
     "output_type": "execute_result"
    }
   ],
   "source": [
    "type(data)"
   ]
  },
  {
   "cell_type": "code",
   "execution_count": 6,
   "id": "c5aeed60",
   "metadata": {},
   "outputs": [],
   "source": [
    "data_iterator=data.as_numpy_iterator()"
   ]
  },
  {
   "cell_type": "code",
   "execution_count": 7,
   "id": "ee15603a",
   "metadata": {},
   "outputs": [],
   "source": [
    "batch=data_iterator.next()[0].max()"
   ]
  },
  {
   "cell_type": "code",
   "execution_count": 8,
   "id": "04297e1b",
   "metadata": {},
   "outputs": [
    {
     "data": {
      "text/plain": [
       "250.41747"
      ]
     },
     "execution_count": 8,
     "metadata": {},
     "output_type": "execute_result"
    }
   ],
   "source": [
    "batch"
   ]
  },
  {
   "cell_type": "code",
   "execution_count": null,
   "id": "d006e741",
   "metadata": {},
   "outputs": [],
   "source": []
  },
  {
   "cell_type": "code",
   "execution_count": 9,
   "id": "7650f666",
   "metadata": {},
   "outputs": [
    {
     "name": "stdout",
     "output_type": "stream",
     "text": [
      "WARNING:tensorflow:From C:\\Users\\scoot\\anaconda3\\lib\\site-packages\\tensorflow\\python\\autograph\\pyct\\static_analysis\\liveness.py:83: Analyzer.lamba_check (from tensorflow.python.autograph.pyct.static_analysis.liveness) is deprecated and will be removed after 2023-09-23.\n",
      "Instructions for updating:\n",
      "Lambda fuctions will be no more assumed to be used in the statement where they are used, or at least in the same block. https://github.com/tensorflow/tensorflow/issues/56089\n"
     ]
    }
   ],
   "source": [
    "data=data.map(lambda x,y:(x/255,y))"
   ]
  },
  {
   "cell_type": "code",
   "execution_count": 10,
   "id": "c5ff0525",
   "metadata": {},
   "outputs": [
    {
     "data": {
      "text/plain": [
       "0.994706"
      ]
     },
     "execution_count": 10,
     "metadata": {},
     "output_type": "execute_result"
    }
   ],
   "source": [
    "data.as_numpy_iterator().next()[0].max()"
   ]
  },
  {
   "cell_type": "markdown",
   "id": "50905ebf",
   "metadata": {},
   "source": [
    "# splitting of our data "
   ]
  },
  {
   "cell_type": "code",
   "execution_count": 11,
   "id": "6cec0fe6",
   "metadata": {},
   "outputs": [
    {
     "data": {
      "text/plain": [
       "138"
      ]
     },
     "execution_count": 11,
     "metadata": {},
     "output_type": "execute_result"
    }
   ],
   "source": [
    "len(data)"
   ]
  },
  {
   "cell_type": "code",
   "execution_count": 12,
   "id": "f044edd3",
   "metadata": {},
   "outputs": [
    {
     "data": {
      "text/plain": [
       "27600"
      ]
     },
     "execution_count": 12,
     "metadata": {},
     "output_type": "execute_result"
    }
   ],
   "source": [
    "138*200"
   ]
  },
  {
   "cell_type": "code",
   "execution_count": 13,
   "id": "bf0d9543",
   "metadata": {},
   "outputs": [],
   "source": [
    "train_size=100\n",
    "val_size=20\n",
    "test_size=18\n"
   ]
  },
  {
   "cell_type": "code",
   "execution_count": 14,
   "id": "3af54628",
   "metadata": {},
   "outputs": [
    {
     "data": {
      "text/plain": [
       "(100, 20, 18)"
      ]
     },
     "execution_count": 14,
     "metadata": {},
     "output_type": "execute_result"
    }
   ],
   "source": [
    "train_size,val_size,test_size"
   ]
  },
  {
   "cell_type": "code",
   "execution_count": 15,
   "id": "e38209de",
   "metadata": {},
   "outputs": [],
   "source": [
    "train=data.take(train_size)\n",
    "test=data.skip(train_size).take(test_size)\n",
    "val=data.skip(test_size+train_size).take(val_size)\n"
   ]
  },
  {
   "cell_type": "code",
   "execution_count": 16,
   "id": "11c509b7",
   "metadata": {},
   "outputs": [],
   "source": [
    "input_shape=(40,40,3)"
   ]
  },
  {
   "cell_type": "markdown",
   "id": "b2c756a7",
   "metadata": {},
   "source": [
    "# vgg net"
   ]
  },
  {
   "cell_type": "code",
   "execution_count": 17,
   "id": "aeb7374e",
   "metadata": {},
   "outputs": [],
   "source": [
    "from tensorflow.keras.applications.vgg16  import  VGG16"
   ]
  },
  {
   "cell_type": "code",
   "execution_count": 18,
   "id": "f058b3f4",
   "metadata": {},
   "outputs": [],
   "source": [
    "model1=VGG16(\n",
    "    weights=\"imagenet\",\n",
    "    include_top=False,\n",
    "    input_shape=input_shape\n",
    "\n",
    "\n",
    "\n",
    ")"
   ]
  },
  {
   "cell_type": "code",
   "execution_count": 19,
   "id": "db2a0e14",
   "metadata": {},
   "outputs": [
    {
     "name": "stdout",
     "output_type": "stream",
     "text": [
      "Model: \"vgg16\"\n",
      "_________________________________________________________________\n",
      " Layer (type)                Output Shape              Param #   \n",
      "=================================================================\n",
      " input_1 (InputLayer)        [(None, 40, 40, 3)]       0         \n",
      "                                                                 \n",
      " block1_conv1 (Conv2D)       (None, 40, 40, 64)        1792      \n",
      "                                                                 \n",
      " block1_conv2 (Conv2D)       (None, 40, 40, 64)        36928     \n",
      "                                                                 \n",
      " block1_pool (MaxPooling2D)  (None, 20, 20, 64)        0         \n",
      "                                                                 \n",
      " block2_conv1 (Conv2D)       (None, 20, 20, 128)       73856     \n",
      "                                                                 \n",
      " block2_conv2 (Conv2D)       (None, 20, 20, 128)       147584    \n",
      "                                                                 \n",
      " block2_pool (MaxPooling2D)  (None, 10, 10, 128)       0         \n",
      "                                                                 \n",
      " block3_conv1 (Conv2D)       (None, 10, 10, 256)       295168    \n",
      "                                                                 \n",
      " block3_conv2 (Conv2D)       (None, 10, 10, 256)       590080    \n",
      "                                                                 \n",
      " block3_conv3 (Conv2D)       (None, 10, 10, 256)       590080    \n",
      "                                                                 \n",
      " block3_pool (MaxPooling2D)  (None, 5, 5, 256)         0         \n",
      "                                                                 \n",
      " block4_conv1 (Conv2D)       (None, 5, 5, 512)         1180160   \n",
      "                                                                 \n",
      " block4_conv2 (Conv2D)       (None, 5, 5, 512)         2359808   \n",
      "                                                                 \n",
      " block4_conv3 (Conv2D)       (None, 5, 5, 512)         2359808   \n",
      "                                                                 \n",
      " block4_pool (MaxPooling2D)  (None, 2, 2, 512)         0         \n",
      "                                                                 \n",
      " block5_conv1 (Conv2D)       (None, 2, 2, 512)         2359808   \n",
      "                                                                 \n",
      " block5_conv2 (Conv2D)       (None, 2, 2, 512)         2359808   \n",
      "                                                                 \n",
      " block5_conv3 (Conv2D)       (None, 2, 2, 512)         2359808   \n",
      "                                                                 \n",
      " block5_pool (MaxPooling2D)  (None, 1, 1, 512)         0         \n",
      "                                                                 \n",
      "=================================================================\n",
      "Total params: 14,714,688\n",
      "Trainable params: 14,714,688\n",
      "Non-trainable params: 0\n",
      "_________________________________________________________________\n"
     ]
    }
   ],
   "source": [
    "model1.summary()"
   ]
  },
  {
   "cell_type": "code",
   "execution_count": 20,
   "id": "26c3ff5f",
   "metadata": {},
   "outputs": [],
   "source": [
    "from tensorflow.keras.models import Sequential\n",
    "from tensorflow.keras.layers import Dense,Flatten"
   ]
  },
  {
   "cell_type": "code",
   "execution_count": 21,
   "id": "815680d6",
   "metadata": {},
   "outputs": [],
   "source": [
    "vggnet=Sequential()\n",
    "\n",
    "vggnet.add(model1)\n",
    "vggnet.add(Flatten())\n",
    "vggnet.add(Dense(10,activation=\"relu\"))\n",
    "vggnet.add(Dense(6,activation=\"sigmoid\"))"
   ]
  },
  {
   "cell_type": "code",
   "execution_count": 22,
   "id": "35396d6a",
   "metadata": {},
   "outputs": [
    {
     "name": "stdout",
     "output_type": "stream",
     "text": [
      "Model: \"sequential\"\n",
      "_________________________________________________________________\n",
      " Layer (type)                Output Shape              Param #   \n",
      "=================================================================\n",
      " vgg16 (Functional)          (None, 1, 1, 512)         14714688  \n",
      "                                                                 \n",
      " flatten (Flatten)           (None, 512)               0         \n",
      "                                                                 \n",
      " dense (Dense)               (None, 10)                5130      \n",
      "                                                                 \n",
      " dense_1 (Dense)             (None, 6)                 66        \n",
      "                                                                 \n",
      "=================================================================\n",
      "Total params: 14,719,884\n",
      "Trainable params: 14,719,884\n",
      "Non-trainable params: 0\n",
      "_________________________________________________________________\n"
     ]
    }
   ],
   "source": [
    "vggnet.summary()"
   ]
  },
  {
   "cell_type": "code",
   "execution_count": 23,
   "id": "f401de54",
   "metadata": {},
   "outputs": [],
   "source": [
    "model1.trainable=False"
   ]
  },
  {
   "cell_type": "code",
   "execution_count": 24,
   "id": "7d495431",
   "metadata": {},
   "outputs": [],
   "source": [
    "vggnet.compile(optimizer='adam',\n",
    "              loss=tf.keras.losses.SparseCategoricalCrossentropy(from_logits=True),\n",
    "              metrics=['accuracy'])"
   ]
  },
  {
   "cell_type": "code",
   "execution_count": null,
   "id": "19f38ef2",
   "metadata": {},
   "outputs": [],
   "source": []
  },
  {
   "cell_type": "code",
   "execution_count": 25,
   "id": "784a20f9",
   "metadata": {},
   "outputs": [
    {
     "name": "stdout",
     "output_type": "stream",
     "text": [
      "Epoch 1/10\n",
      "100/100 [==============================] - 324s 3s/step - loss: 0.7807 - accuracy: 0.7028 - val_loss: 0.4944 - val_accuracy: 0.7913\n",
      "Epoch 2/10\n",
      "100/100 [==============================] - 326s 3s/step - loss: 0.4428 - accuracy: 0.8155 - val_loss: 0.4045 - val_accuracy: 0.8322\n",
      "Epoch 3/10\n",
      "100/100 [==============================] - 340s 3s/step - loss: 0.3839 - accuracy: 0.8369 - val_loss: 0.3673 - val_accuracy: 0.8474\n",
      "Epoch 4/10\n",
      "100/100 [==============================] - 370s 4s/step - loss: 0.3578 - accuracy: 0.8466 - val_loss: 0.3490 - val_accuracy: 0.8557\n",
      "Epoch 5/10\n",
      "100/100 [==============================] - 308s 3s/step - loss: 0.3430 - accuracy: 0.8528 - val_loss: 0.3475 - val_accuracy: 0.8550\n",
      "Epoch 6/10\n",
      "100/100 [==============================] - 275s 3s/step - loss: 0.3348 - accuracy: 0.8561 - val_loss: 0.3325 - val_accuracy: 0.8623\n",
      "Epoch 7/10\n",
      "100/100 [==============================] - 285s 3s/step - loss: 0.3278 - accuracy: 0.8575 - val_loss: 0.3282 - val_accuracy: 0.8631\n",
      "Epoch 8/10\n",
      "100/100 [==============================] - 272s 3s/step - loss: 0.3223 - accuracy: 0.8616 - val_loss: 0.3237 - val_accuracy: 0.8621\n",
      "Epoch 9/10\n",
      "100/100 [==============================] - 266s 3s/step - loss: 0.3181 - accuracy: 0.8627 - val_loss: 0.3214 - val_accuracy: 0.8648\n",
      "Epoch 10/10\n",
      "100/100 [==============================] - 277s 3s/step - loss: 0.3160 - accuracy: 0.8630 - val_loss: 0.3209 - val_accuracy: 0.8636\n"
     ]
    }
   ],
   "source": [
    "history=vggnet.fit(train,validation_data=val,epochs=10)"
   ]
  },
  {
   "cell_type": "code",
   "execution_count": 29,
   "id": "44cf1417",
   "metadata": {},
   "outputs": [],
   "source": [
    "EPOCHS=10"
   ]
  },
  {
   "cell_type": "code",
   "execution_count": 30,
   "id": "f7c12656",
   "metadata": {},
   "outputs": [],
   "source": [
    "# Getting the model history to analyse\n",
    "train_loss = history.history['loss']\n",
    "train_acc = history.history['accuracy']\n",
    "\n",
    "val_loss = history.history['val_loss']\n",
    "val_acc = history.history['val_accuracy']"
   ]
  },
  {
   "cell_type": "code",
   "execution_count": 31,
   "id": "fc4e4fed",
   "metadata": {},
   "outputs": [
    {
     "data": {
      "text/plain": [
       "Text(0.5, 1.0, 'Training and Validation Loss')"
      ]
     },
     "execution_count": 31,
     "metadata": {},
     "output_type": "execute_result"
    },
    {
     "data": {
      "image/png": "[encoded data removed]",
      "text/plain": [
       "<Figure size 1500x1500 with 2 Axes>"
      ]
     },
     "metadata": {},
     "output_type": "display_data"
    }
   ],
   "source": [
    "#graphs for accuracy and loss of training and validation data\n",
    "plt.figure(figsize = (15,15))\n",
    "plt.subplot(2,3,1)\n",
    "plt.plot(range(EPOCHS), train_acc, label = 'Training Accuracy')\n",
    "plt.plot(range(EPOCHS), val_acc, label = 'Validation Accuracy')\n",
    "plt.legend(loc = 'lower right')\n",
    "plt.title('Training and Validation Accuracy') \n",
    "\n",
    "plt.subplot(2,3,2)\n",
    "plt.plot(range(EPOCHS), train_loss, label = 'Training Loss')\n",
    "plt.plot(range(EPOCHS), val_loss, label = 'Validation Loss')\n",
    "plt.legend(loc = 'upper right')\n",
    "plt.title('Training and Validation Loss')"
   ]
  },
  {
   "cell_type": "code",
   "execution_count": 32,
   "id": "dc2dcac2",
   "metadata": {},
   "outputs": [
    {
     "name": "stdout",
     "output_type": "stream",
     "text": [
      "18/18 [==============================] - 59s 2s/step - loss: 0.3245 - accuracy: 0.8567\n"
     ]
    },
    {
     "data": {
      "text/plain": [
       "[0.32450851798057556, 0.8566666841506958]"
      ]
     },
     "execution_count": 32,
     "metadata": {},
     "output_type": "execute_result"
    }
   ],
   "source": [
    "vggnet.evaluate(test)"
   ]
  },
  {
   "cell_type": "markdown",
   "id": "bb08a8da",
   "metadata": {},
   "source": [
    "# Resnet model"
   ]
  },
  {
   "cell_type": "code",
   "execution_count": 33,
   "id": "41b45c3c",
   "metadata": {},
   "outputs": [],
   "source": [
    "from tensorflow.keras.applications.resnet50  import ResNet50"
   ]
  },
  {
   "cell_type": "code",
   "execution_count": 34,
   "id": "564af4f1",
   "metadata": {},
   "outputs": [],
   "source": [
    "model2=ResNet50(\n",
    "    weights=\"imagenet\",\n",
    "    include_top=False,\n",
    "    input_shape=input_shape\n",
    "\n",
    "\n",
    "\n",
    ")"
   ]
  },
  {
   "cell_type": "code",
   "execution_count": null,
   "id": "ec8ed63c",
   "metadata": {},
   "outputs": [],
   "source": []
  },
  {
   "cell_type": "code",
   "execution_count": 35,
   "id": "898d870d",
   "metadata": {},
   "outputs": [],
   "source": [
    "resnet=Sequential()\n",
    "\n",
    "resnet.add(model2)\n",
    "resnet.add(Flatten())\n",
    "resnet.add(Dense(10,activation=\"relu\"))\n",
    "resnet.add(Dense(6,activation=\"sigmoid\"))"
   ]
  },
  {
   "cell_type": "code",
   "execution_count": 36,
   "id": "05f28182",
   "metadata": {},
   "outputs": [
    {
     "name": "stdout",
     "output_type": "stream",
     "text": [
      "Model: \"sequential_1\"\n",
      "_________________________________________________________________\n",
      " Layer (type)                Output Shape              Param #   \n",
      "=================================================================\n",
      " resnet50 (Functional)       (None, 2, 2, 2048)        23587712  \n",
      "                                                                 \n",
      " flatten_1 (Flatten)         (None, 8192)              0         \n",
      "                                                                 \n",
      " dense_2 (Dense)             (None, 10)                81930     \n",
      "                                                                 \n",
      " dense_3 (Dense)             (None, 6)                 66        \n",
      "                                                                 \n",
      "=================================================================\n",
      "Total params: 23,669,708\n",
      "Trainable params: 23,616,588\n",
      "Non-trainable params: 53,120\n",
      "_________________________________________________________________\n"
     ]
    }
   ],
   "source": [
    "resnet.summary()"
   ]
  },
  {
   "cell_type": "code",
   "execution_count": 37,
   "id": "84133e00",
   "metadata": {},
   "outputs": [],
   "source": [
    "model2.trainable=False"
   ]
  },
  {
   "cell_type": "code",
   "execution_count": 38,
   "id": "239645eb",
   "metadata": {},
   "outputs": [],
   "source": [
    "resnet.compile(optimizer='adam',\n",
    "              loss=tf.keras.losses.SparseCategoricalCrossentropy(from_logits=True),\n",
    "              metrics=['accuracy'])"
   ]
  },
  {
   "cell_type": "code",
   "execution_count": null,
   "id": "ada3bf5e",
   "metadata": {},
   "outputs": [],
   "source": []
  },
  {
   "cell_type": "code",
   "execution_count": 39,
   "id": "72003910",
   "metadata": {},
   "outputs": [
    {
     "name": "stdout",
     "output_type": "stream",
     "text": [
      "Epoch 1/10\n",
      "100/100 [==============================] - 174s 2s/step - loss: 0.7769 - accuracy: 0.5944 - val_loss: 0.6446 - val_accuracy: 0.6523\n",
      "Epoch 2/10\n",
      "100/100 [==============================] - 150s 1s/step - loss: 0.6292 - accuracy: 0.6586 - val_loss: 0.6202 - val_accuracy: 0.6700\n",
      "Epoch 3/10\n",
      "100/100 [==============================] - 149s 1s/step - loss: 0.6182 - accuracy: 0.6648 - val_loss: 0.6131 - val_accuracy: 0.6789\n",
      "Epoch 4/10\n",
      "100/100 [==============================] - 150s 1s/step - loss: 0.6138 - accuracy: 0.6680 - val_loss: 0.6073 - val_accuracy: 0.6812\n",
      "Epoch 5/10\n",
      "100/100 [==============================] - 150s 1s/step - loss: 0.6068 - accuracy: 0.6789 - val_loss: 0.6111 - val_accuracy: 0.6713\n",
      "Epoch 6/10\n",
      "100/100 [==============================] - 154s 2s/step - loss: 0.6013 - accuracy: 0.6827 - val_loss: 0.5982 - val_accuracy: 0.6938\n",
      "Epoch 7/10\n",
      "100/100 [==============================] - 150s 1s/step - loss: 0.6018 - accuracy: 0.6808 - val_loss: 0.5976 - val_accuracy: 0.6875\n",
      "Epoch 8/10\n",
      "100/100 [==============================] - 151s 1s/step - loss: 0.5984 - accuracy: 0.6842 - val_loss: 0.5941 - val_accuracy: 0.6950\n",
      "Epoch 9/10\n",
      "100/100 [==============================] - 149s 1s/step - loss: 0.5949 - accuracy: 0.6863 - val_loss: 0.5970 - val_accuracy: 0.6814\n",
      "Epoch 10/10\n",
      "100/100 [==============================] - 150s 1s/step - loss: 0.5950 - accuracy: 0.6859 - val_loss: 0.5912 - val_accuracy: 0.6928\n"
     ]
    }
   ],
   "source": [
    "history=resnet.fit(train,validation_data=val,epochs=10)"
   ]
  },
  {
   "cell_type": "code",
   "execution_count": null,
   "id": "73a808dc",
   "metadata": {},
   "outputs": [],
   "source": []
  },
  {
   "cell_type": "code",
   "execution_count": 40,
   "id": "210aed8f",
   "metadata": {},
   "outputs": [],
   "source": [
    "train_loss = history.history['loss']\n",
    "train_acc = history.history['accuracy']\n",
    "\n",
    "val_loss = history.history['val_loss']\n",
    "val_acc = history.history['val_accuracy']"
   ]
  },
  {
   "cell_type": "code",
   "execution_count": 41,
   "id": "df4c895f",
   "metadata": {},
   "outputs": [
    {
     "data": {
      "text/plain": [
       "Text(0.5, 1.0, 'Training and Validation Loss')"
      ]
     },
     "execution_count": 41,
     "metadata": {},
     "output_type": "execute_result"
    },
    {
     "data": {
      "image/png": "[encoded data removed]",
      "text/plain": [
       "<Figure size 1500x1500 with 2 Axes>"
      ]
     },
     "metadata": {},
     "output_type": "display_data"
    }
   ],
   "source": [
    "\n",
    "plt.figure(figsize = (15,15))\n",
    "plt.subplot(2,3,1)\n",
    "plt.plot(range(EPOCHS), train_acc, label = 'Training Accuracy')\n",
    "plt.plot(range(EPOCHS), val_acc, label = 'Validation Accuracy')\n",
    "plt.legend(loc = 'lower right')\n",
    "plt.title('Training and Validation Accuracy') \n",
    "\n",
    "plt.subplot(2,3,2)\n",
    "plt.plot(range(EPOCHS), train_loss, label = 'Training Loss')\n",
    "plt.plot(range(EPOCHS), val_loss, label = 'Validation Loss')\n",
    "plt.legend(loc = 'upper right')\n",
    "plt.title('Training and Validation Loss')"
   ]
  },
  {
   "cell_type": "code",
   "execution_count": 42,
   "id": "f5347c58",
   "metadata": {},
   "outputs": [
    {
     "name": "stdout",
     "output_type": "stream",
     "text": [
      "18/18 [==============================] - 31s 1s/step - loss: 0.5873 - accuracy: 0.6983\n"
     ]
    },
    {
     "data": {
      "text/plain": [
       "[0.5872561931610107, 0.6983333230018616]"
      ]
     },
     "execution_count": 42,
     "metadata": {},
     "output_type": "execute_result"
    }
   ],
   "source": [
    "resnet.evaluate(test)"
   ]
  },
  {
   "cell_type": "code",
   "execution_count": 43,
   "id": "0fcb5139",
   "metadata": {},
   "outputs": [],
   "source": [
    "import cv2"
   ]
  },
  {
   "cell_type": "code",
   "execution_count": 44,
   "id": "b9a8ab8c",
   "metadata": {},
   "outputs": [],
   "source": [
    "def predict_malaria(img):\n",
    "    image=cv2.imread(img)\n",
    "    resize=tf.image.resize(image,(40,40))\n",
    "    scale=np.expand_dims(resize/255,0)\n",
    "    pred=model.predict(scale)\n",
    "    return pred\n",
    "    \n",
    "    \n",
    "    \n",
    "    "
   ]
  },
  {
   "cell_type": "code",
   "execution_count": null,
   "id": "4708a576",
   "metadata": {},
   "outputs": [],
   "source": []
  },
  {
   "cell_type": "code",
   "execution_count": null,
   "id": "245eeb56",
   "metadata": {},
   "outputs": [],
   "source": []
  },
  {
   "cell_type": "code",
   "execution_count": null,
   "id": "28ff502d",
   "metadata": {},
   "outputs": [],
   "source": []
  }
 ],
 "metadata": {
  "kernelspec": {
   "display_name": "Python 3 (ipykernel)",
   "language": "python",
   "name": "python3"
  },
  "language_info": {
   "codemirror_mode": {
    "name": "ipython",
    "version": 3
   },
   "file_extension": ".py",
   "mimetype": "text/x-python",
   "name": "python",
   "nbconvert_exporter": "python",
   "pygments_lexer": "ipython3",
   "version": "3.9.13"
  }
 },
 "nbformat": 4,
 "nbformat_minor": 5
}
